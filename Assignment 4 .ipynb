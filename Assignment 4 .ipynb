{
 "cells": [
  {
   "cell_type": "markdown",
   "id": "c175ffd1",
   "metadata": {},
   "source": [
    "## Assignment 4 List"
   ]
  },
  {
   "cell_type": "code",
   "execution_count": null,
   "id": "b7cf04e2",
   "metadata": {},
   "outputs": [],
   "source": [
    "Question 1. What exactly is []?\n",
    "              \n",
    "        -   Empty list value, which is a list value that contains no items.         "
   ]
  },
  {
   "cell_type": "code",
   "execution_count": null,
   "id": "820035ab",
   "metadata": {},
   "outputs": [],
   "source": [
    "Question 2. In a list of values stored in a variable called spam, how would you assign \n",
    "            the value 'hello' as the third value? (Assume [2, 4, 6, 8, 10] are in spam.)\n",
    "\n",
    "        -       \n"
   ]
  },
  {
   "cell_type": "code",
   "execution_count": 5,
   "id": "8db5e940",
   "metadata": {},
   "outputs": [
    {
     "data": {
      "text/plain": [
       "[2, 4, 'hello', 8, 10]"
      ]
     },
     "execution_count": 5,
     "metadata": {},
     "output_type": "execute_result"
    }
   ],
   "source": [
    "spam = [2, 4, 6, 8, 10]\n",
    "spam[2] = \"hello\"\n",
    "spam"
   ]
  },
  {
   "cell_type": "code",
   "execution_count": null,
   "id": "f6ab1aa1",
   "metadata": {
    "scrolled": true
   },
   "outputs": [],
   "source": [
    "*** Let's pretend the spam includes the list ['a', 'b', 'c', 'd'] for the next three queries. "
   ]
  },
  {
   "cell_type": "code",
   "execution_count": null,
   "id": "4475f050",
   "metadata": {},
   "outputs": [],
   "source": [
    "Question 3. What is the value of spam[int(int('3' * 2) / 11)]?"
   ]
  },
  {
   "cell_type": "code",
   "execution_count": 8,
   "id": "1b106b8e",
   "metadata": {},
   "outputs": [
    {
     "data": {
      "text/plain": [
       "8"
      ]
     },
     "execution_count": 8,
     "metadata": {},
     "output_type": "execute_result"
    }
   ],
   "source": [
    "spam = [2, 4, 6, 8, 10,'a', 'b', 'c', 'd']\n",
    "spam[int(int('3' * 2) / 11)]"
   ]
  },
  {
   "cell_type": "code",
   "execution_count": null,
   "id": "d1c8f969",
   "metadata": {},
   "outputs": [],
   "source": [
    "Question 4. What is the value of spam[-1]?"
   ]
  },
  {
   "cell_type": "code",
   "execution_count": 9,
   "id": "dbde13af",
   "metadata": {},
   "outputs": [
    {
     "data": {
      "text/plain": [
       "'d'"
      ]
     },
     "execution_count": 9,
     "metadata": {},
     "output_type": "execute_result"
    }
   ],
   "source": [
    "spam[-1]"
   ]
  },
  {
   "cell_type": "code",
   "execution_count": null,
   "id": "b836f5f0",
   "metadata": {},
   "outputs": [],
   "source": [
    "Question 5. What is the value of spam[:2]?"
   ]
  },
  {
   "cell_type": "code",
   "execution_count": 10,
   "id": "910a0775",
   "metadata": {},
   "outputs": [
    {
     "data": {
      "text/plain": [
       "[2, 4]"
      ]
     },
     "execution_count": 10,
     "metadata": {},
     "output_type": "execute_result"
    }
   ],
   "source": [
    "spam[:2]"
   ]
  },
  {
   "cell_type": "code",
   "execution_count": null,
   "id": "b1539879",
   "metadata": {},
   "outputs": [],
   "source": [
    "*** Let's pretend bacon has the list [3.14, 'cat,' 11, 'cat,' True] for the next three questions."
   ]
  },
  {
   "cell_type": "code",
   "execution_count": 19,
   "id": "66fdcbf1",
   "metadata": {},
   "outputs": [],
   "source": [
    "bacon = [3.14, 'cat', 11, 'cat,' \"True\"]\n"
   ]
  },
  {
   "cell_type": "code",
   "execution_count": null,
   "id": "cd6f703c",
   "metadata": {},
   "outputs": [],
   "source": [
    "Question 6. What is the value of bacon.index('cat')?"
   ]
  },
  {
   "cell_type": "code",
   "execution_count": 20,
   "id": "f1ff1533",
   "metadata": {},
   "outputs": [
    {
     "data": {
      "text/plain": [
       "1"
      ]
     },
     "execution_count": 20,
     "metadata": {},
     "output_type": "execute_result"
    }
   ],
   "source": [
    "bacon.index('cat')"
   ]
  },
  {
   "cell_type": "code",
   "execution_count": null,
   "id": "99a162bd",
   "metadata": {},
   "outputs": [],
   "source": [
    "Question 7. How does bacon.append(99) change the look of the list value in bacon?"
   ]
  },
  {
   "cell_type": "code",
   "execution_count": 21,
   "id": "82febea0",
   "metadata": {},
   "outputs": [
    {
     "data": {
      "text/plain": [
       "[3.14, 'cat', 11, 'cat,True', 99]"
      ]
     },
     "execution_count": 21,
     "metadata": {},
     "output_type": "execute_result"
    }
   ],
   "source": [
    "bacon.append(99)\n",
    "bacon"
   ]
  },
  {
   "cell_type": "code",
   "execution_count": null,
   "id": "57d6124c",
   "metadata": {},
   "outputs": [],
   "source": [
    "Question 8. How does bacon.remove('cat') change the look of the list in bacon?. \n"
   ]
  },
  {
   "cell_type": "code",
   "execution_count": 22,
   "id": "ce675d79",
   "metadata": {},
   "outputs": [
    {
     "data": {
      "text/plain": [
       "[3.14, 11, 'cat,True', 99]"
      ]
     },
     "execution_count": 22,
     "metadata": {},
     "output_type": "execute_result"
    }
   ],
   "source": [
    "bacon.remove('cat')\n",
    "bacon"
   ]
  },
  {
   "cell_type": "code",
   "execution_count": null,
   "id": "2805e159",
   "metadata": {},
   "outputs": [],
   "source": [
    "Question 9. What are the list concatenation and list replication operators?\n",
    "\n",
    "        -  operator for replication is *\n",
    "           operator for list concatenation is +"
   ]
  },
  {
   "cell_type": "code",
   "execution_count": null,
   "id": "07e8c279",
   "metadata": {},
   "outputs": [],
   "source": [
    "Question 10. What is difference between the list methods append() and insert()?\n",
    "\n",
    "        -  The only difference between append() and insert() is that insert function allows us to add a \n",
    "           specific element at a specified index  of the list unlike append() where we can add the element\n",
    "           only at end of the list."
   ]
  },
  {
   "cell_type": "code",
   "execution_count": null,
   "id": "50858030",
   "metadata": {},
   "outputs": [],
   "source": [
    "Question 11. What are the two methods for removing items from a list?\n",
    "\n",
    "        -  pop() \n",
    "           clear() "
   ]
  },
  {
   "cell_type": "code",
   "execution_count": null,
   "id": "51c02560",
   "metadata": {},
   "outputs": [],
   "source": [
    "Question 12. Describe how list values and string values are identical.\n",
    "\n",
    "        - The similarity between Lists and Strings in Python is that both are sequences. The differences between them are that \n",
    "          firstly, Lists are mutable but Strings are immutable.\n",
    "          Secondly, elements of a list can be of different types whereas a String only contains characters \n",
    "          that are all of String type."
   ]
  },
  {
   "cell_type": "code",
   "execution_count": null,
   "id": "b2c97014",
   "metadata": {},
   "outputs": [],
   "source": [
    "Question 13. What's the difference between tuples and lists?\n",
    "\n",
    "         -Difference between the tuples and lists is that while the tuples are immutable objects the lists are mutable. \n",
    "          This means that tuples cannot be changed while the lists can be modified. \n",
    "          Tuples are more memory efficient than the lists"
   ]
  },
  {
   "cell_type": "code",
   "execution_count": null,
   "id": "f30d5263",
   "metadata": {},
   "outputs": [],
   "source": [
    "Question 14.  How do you type a tuple value that only contains the integer 42?\n",
    "\n",
    "         - (42,) "
   ]
  },
  {
   "cell_type": "code",
   "execution_count": null,
   "id": "d2115881",
   "metadata": {},
   "outputs": [],
   "source": [
    "Question 15.  How do you get a list value's tuple form? How do you get a tuple value's list form?\n",
    "\n",
    "         -  tuple1 = tuple(list)\n",
    "             list1 = list(tuple)\n",
    "\n"
   ]
  },
  {
   "cell_type": "code",
   "execution_count": null,
   "id": "453744d0",
   "metadata": {},
   "outputs": [],
   "source": [
    "Question 16.  Variables that \"contain\" list values are not necessarily lists themselves. Instead, what do they contain?\n",
    "\n",
    "         - Variables will contain references to list values rather than list values themselves. \n",
    "           But for strings and integer values, \n",
    "          variables simply contain the string or integer value."
   ]
  },
  {
   "cell_type": "code",
   "execution_count": null,
   "id": "08a81f8d",
   "metadata": {},
   "outputs": [],
   "source": [
    "Question 17.  How do you distinguish between copy.copy() and copy.deepcopy()?\n",
    "\n",
    "         -  copy() create reference to original object. If you change copied object - you change the original object. . \n",
    "            deepcopy() creates new object and does real copying of original object to new one. Changing new deepcopied \n",
    "            object doesn't affect original object."
   ]
  }
 ],
 "metadata": {
  "kernelspec": {
   "display_name": "Python 3",
   "language": "python",
   "name": "python3"
  },
  "language_info": {
   "codemirror_mode": {
    "name": "ipython",
    "version": 3
   },
   "file_extension": ".py",
   "mimetype": "text/x-python",
   "name": "python",
   "nbconvert_exporter": "python",
   "pygments_lexer": "ipython3",
   "version": "3.8.8"
  }
 },
 "nbformat": 4,
 "nbformat_minor": 5
}
