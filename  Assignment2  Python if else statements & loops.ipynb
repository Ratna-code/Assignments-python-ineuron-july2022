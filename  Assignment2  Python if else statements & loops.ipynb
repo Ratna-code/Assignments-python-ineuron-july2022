{
 "cells": [
  {
   "cell_type": "markdown",
   "id": "955b708e",
   "metadata": {},
   "source": [
    "## Assignment 2 - Python if else statements & loops"
   ]
  },
  {
   "cell_type": "code",
   "execution_count": null,
   "id": "e968118e",
   "metadata": {},
   "outputs": [],
   "source": [
    "Question 1. What are the two values of the Boolean data type? How do you write them?\n",
    "\n",
    "- 1)there are two types of boolen data values are true and false.\n",
    "  2)some expression in python evaluates in true and false.Boolean expressions use relational and logical operators. \n"
   ]
  },
  {
   "cell_type": "code",
   "execution_count": 5,
   "id": "6043b53c",
   "metadata": {},
   "outputs": [
    {
     "data": {
      "text/plain": [
       "False"
      ]
     },
     "execution_count": 5,
     "metadata": {},
     "output_type": "execute_result"
    }
   ],
   "source": [
    "# we can write boolen through\n",
    "bool(2>12)"
   ]
  },
  {
   "cell_type": "code",
   "execution_count": 4,
   "id": "272fdd99",
   "metadata": {},
   "outputs": [
    {
     "data": {
      "text/plain": [
       "True"
      ]
     },
     "execution_count": 4,
     "metadata": {},
     "output_type": "execute_result"
    }
   ],
   "source": [
    "bool(3<43)"
   ]
  },
  {
   "cell_type": "code",
   "execution_count": null,
   "id": "8b6b8d13",
   "metadata": {},
   "outputs": [],
   "source": [
    "Question 2. What are the three different types of Boolean operators?\n",
    "\n",
    "- AND , OR , NOT are three types of boolen data type Boolean operators"
   ]
  },
  {
   "cell_type": "code",
   "execution_count": null,
   "id": "207eb95a",
   "metadata": {},
   "outputs": [],
   "source": [
    "Question 3. Make a list of each Boolean operator's truth tables (i.e. every possible combination of \n",
    "            Boolean values for the operator and what it evaluate ).\n",
    "    \n",
    "    - TRUTH TABLE OF OR Boolean operator \n",
    "      true true - true\n",
    "      true false - true \n",
    "      false true - true\n",
    "      false false - false \n",
    "    \n",
    "    \n",
    "    - TRUTH TABLE OF AND Boolean operator \n",
    "      true true - true\n",
    "      true false - false \n",
    "      false true - false\n",
    "      false false - false \n",
    "    \n",
    "    - TRUTH TABLE OF NOT Boolean operator \n",
    "      true true - false\n",
    "      true false - false \n",
    "      false true - true\n",
    "      false false - true \n",
    "    \n",
    "    "
   ]
  },
  {
   "cell_type": "code",
   "execution_count": null,
   "id": "24ef24f0",
   "metadata": {},
   "outputs": [],
   "source": [
    "Question 4. What are the values of the following expressions?\n",
    "    (5 > 4) and (3 == 5)\n",
    "    not (5 > 4)\n",
    "    (5 > 4) or (3 == 5)\n",
    "    not ((5 > 4) or (3 == 5))\n",
    "    (True and True) and (True == False)\n",
    "    (not False) or (not True)\n"
   ]
  },
  {
   "cell_type": "code",
   "execution_count": 6,
   "id": "95536d9c",
   "metadata": {},
   "outputs": [
    {
     "data": {
      "text/plain": [
       "False"
      ]
     },
     "execution_count": 6,
     "metadata": {},
     "output_type": "execute_result"
    }
   ],
   "source": [
    "(5 > 4) and (3 == 5)"
   ]
  },
  {
   "cell_type": "code",
   "execution_count": 7,
   "id": "59527104",
   "metadata": {},
   "outputs": [
    {
     "data": {
      "text/plain": [
       "False"
      ]
     },
     "execution_count": 7,
     "metadata": {},
     "output_type": "execute_result"
    }
   ],
   "source": [
    "not (5 > 4)"
   ]
  },
  {
   "cell_type": "code",
   "execution_count": 8,
   "id": "18292a6e",
   "metadata": {},
   "outputs": [
    {
     "data": {
      "text/plain": [
       "True"
      ]
     },
     "execution_count": 8,
     "metadata": {},
     "output_type": "execute_result"
    }
   ],
   "source": [
    "(5 > 4) or (3 == 5)"
   ]
  },
  {
   "cell_type": "code",
   "execution_count": 9,
   "id": "3db18388",
   "metadata": {},
   "outputs": [
    {
     "data": {
      "text/plain": [
       "False"
      ]
     },
     "execution_count": 9,
     "metadata": {},
     "output_type": "execute_result"
    }
   ],
   "source": [
    "not ((5 > 4) or (3 == 5))"
   ]
  },
  {
   "cell_type": "code",
   "execution_count": 10,
   "id": "28d536cf",
   "metadata": {},
   "outputs": [
    {
     "data": {
      "text/plain": [
       "False"
      ]
     },
     "execution_count": 10,
     "metadata": {},
     "output_type": "execute_result"
    }
   ],
   "source": [
    "(True and True) and (True == False)"
   ]
  },
  {
   "cell_type": "code",
   "execution_count": 11,
   "id": "8ec6e1ce",
   "metadata": {},
   "outputs": [
    {
     "data": {
      "text/plain": [
       "True"
      ]
     },
     "execution_count": 11,
     "metadata": {},
     "output_type": "execute_result"
    }
   ],
   "source": [
    "(not False) or (not True)"
   ]
  },
  {
   "cell_type": "code",
   "execution_count": null,
   "id": "816cc4d1",
   "metadata": {},
   "outputs": [],
   "source": [
    "Question 5. What are the six comparison operators?\n",
    "\n",
    "       -    Greater than ( > )\n",
    "            Less than ( < )\n",
    "            Equal to ( == )\n",
    "            Not equal to ( != )\n",
    "            Less than or equal to ( <= )\n",
    "            Greater than or equal to ( >= )"
   ]
  },
  {
   "cell_type": "code",
   "execution_count": null,
   "id": "cbda7b3e",
   "metadata": {},
   "outputs": [],
   "source": [
    "Question 6. How do you tell the difference between the equal to and assignment operators?\n",
    "            Describe a condition and when you would use one.\n",
    "    \n",
    "    - The “ = ” is an assignment operator is used to assign the value on the right to the variable on the left. \n",
    "      The '==' operator checks whether the two given operands are equal or not.\n",
    "      If so, it returns true. Otherwise it returns false.\n",
    "      example a = 2 \n",
    "              b = 2\n",
    "              lets check whether a is equal to b or not \n",
    "                if a == b:\n",
    "                    print(\"true\")"
   ]
  },
  {
   "cell_type": "code",
   "execution_count": null,
   "id": "8872dabd",
   "metadata": {},
   "outputs": [],
   "source": [
    "Question 7. Identify the three blocks in this code:\n",
    "    spam = 0\n",
    "    if spam == 10:\n",
    "        print('eggs')\n",
    "        if spam > 5:\n",
    "            print('bacon')\n",
    "    else:\n",
    "        print('ham')\n",
    "        print('spam')\n",
    "        print('spam')\n"
   ]
  },
  {
   "cell_type": "code",
   "execution_count": 4,
   "id": "6cb5be92",
   "metadata": {},
   "outputs": [
    {
     "name": "stdout",
     "output_type": "stream",
     "text": [
      "spam\n"
     ]
    }
   ],
   "source": [
    "spam = 0\n",
    "if spam == 10:\n",
    "    print('eggs')       # indent increased, block A \n",
    "    if spam > 5:         # still block A\n",
    "        print('bacon')   # still block A, indent increased, block B inside block A\n",
    "    else:               # still block A, indent decreased, block B ended in line above\n",
    "        print('ham')     # still block A, indent increased, block C inside block A\n",
    "    print('spam')       # still block A, indent decreased, block C ended in line above\n",
    "print('spam')          # indent decreased, block A ended in line above"
   ]
  },
  {
   "cell_type": "code",
   "execution_count": null,
   "id": "264240eb",
   "metadata": {},
   "outputs": [],
   "source": [
    "Question 8.  Write code that prints Hello if 1 is stored in spam, prints Howdy if 2 is stored in spam, \n",
    "             and prints Greetings! if anything else is stored in spam.\n",
    "\n"
   ]
  },
  {
   "cell_type": "code",
   "execution_count": 12,
   "id": "c1fe7cec",
   "metadata": {},
   "outputs": [
    {
     "name": "stdout",
     "output_type": "stream",
     "text": [
      "greating\n"
     ]
    }
   ],
   "source": [
    "spam = 0\n",
    "if spam == 1:\n",
    "    print(\"hello\")\n",
    "    \n",
    "    if spam == 2:\n",
    "            print(\"howdy\")\n",
    "else:\n",
    "    print(\"greating\")"
   ]
  },
  {
   "cell_type": "code",
   "execution_count": null,
   "id": "58f41afe",
   "metadata": {},
   "outputs": [],
   "source": [
    "Question 9.  If your programme is stuck in an endless loop, what keys you’ll press?\n",
    "\n",
    " - using Ctrl + C where C stands for Cancel."
   ]
  },
  {
   "cell_type": "code",
   "execution_count": null,
   "id": "eb2a5b84",
   "metadata": {},
   "outputs": [],
   "source": [
    "Question 10.  How can you tell the difference between break and continue?\n",
    "\n",
    " - continue says I'm done with this iteration of the loop. Go on to the next one.\n",
    "    break says I'm done with this loop entirely.\n",
    "    \n",
    "    "
   ]
  },
  {
   "cell_type": "code",
   "execution_count": null,
   "id": "2448ba55",
   "metadata": {},
   "outputs": [],
   "source": [
    "Question 11.  In a for loop, what is the difference between range(10), range(0, 10), and range(0, 10, 1)?\n",
    "\n",
    "  - range() function : in for loop if we want to iterate from 0 to n number we can use range() function\n",
    "        \n",
    "    range(10) -   loop is iterate from 0 to 9 \n",
    "    range(0, 10) -  loop is iterate from 0 to 9 only here we specify start and end point\n",
    "    range(0, 10, 1) - loop is iterate from 0 to 9 only here we specify start , \n",
    "                     end point & step size here is 1 so it move with 1 "
   ]
  },
  {
   "cell_type": "code",
   "execution_count": 18,
   "id": "fbc5aaaa",
   "metadata": {},
   "outputs": [
    {
     "name": "stdout",
     "output_type": "stream",
     "text": [
      "0\n",
      "1\n",
      "2\n",
      "3\n",
      "4\n",
      "5\n",
      "6\n",
      "7\n",
      "8\n",
      "9\n"
     ]
    }
   ],
   "source": [
    " for i in range(10):\n",
    "    print(i)"
   ]
  },
  {
   "cell_type": "code",
   "execution_count": 17,
   "id": "ec2a8a57",
   "metadata": {},
   "outputs": [
    {
     "name": "stdout",
     "output_type": "stream",
     "text": [
      "0\n",
      "1\n",
      "2\n",
      "3\n",
      "4\n",
      "5\n",
      "6\n",
      "7\n",
      "8\n",
      "9\n"
     ]
    }
   ],
   "source": [
    " for i in range(0,10):\n",
    "    print(i)"
   ]
  },
  {
   "cell_type": "code",
   "execution_count": 19,
   "id": "6c5024df",
   "metadata": {},
   "outputs": [
    {
     "name": "stdout",
     "output_type": "stream",
     "text": [
      "0\n",
      "1\n",
      "2\n",
      "3\n",
      "4\n",
      "5\n",
      "6\n",
      "7\n",
      "8\n",
      "9\n"
     ]
    }
   ],
   "source": [
    "for i in range(0,10,1):\n",
    "    print(i)"
   ]
  },
  {
   "cell_type": "code",
   "execution_count": null,
   "id": "f812738e",
   "metadata": {},
   "outputs": [],
   "source": [
    "Question 12. Write a short program that prints the numbers 1 to 10 using a for loop.\n",
    "             Then write an equivalent program that prints the numbers 1 to 10 using a while loop.\n",
    "     "
   ]
  },
  {
   "cell_type": "code",
   "execution_count": 20,
   "id": "53c2a7f8",
   "metadata": {},
   "outputs": [
    {
     "name": "stdout",
     "output_type": "stream",
     "text": [
      "0\n",
      "1\n",
      "2\n",
      "3\n",
      "4\n",
      "5\n",
      "6\n",
      "7\n",
      "8\n",
      "9\n",
      "10\n"
     ]
    }
   ],
   "source": [
    "#program that prints the numbers 1 to 10 using a for loop.\n",
    "for i in range(0,10):\n",
    "    print(i)"
   ]
  },
  {
   "cell_type": "code",
   "execution_count": 21,
   "id": "770de8cb",
   "metadata": {},
   "outputs": [
    {
     "name": "stdout",
     "output_type": "stream",
     "text": [
      "0\n",
      "1\n",
      "2\n",
      "3\n",
      "4\n",
      "5\n",
      "6\n",
      "7\n",
      "8\n",
      "9\n"
     ]
    }
   ],
   "source": [
    "# program that prints the numbers 1 to 10 using a while loop.\n",
    "i =0\n",
    "while i<10:\n",
    "    print(i)\n",
    "    i=i+1"
   ]
  },
  {
   "cell_type": "code",
   "execution_count": null,
   "id": "17fca74a",
   "metadata": {},
   "outputs": [],
   "source": [
    "Question 13. If you had a function named bacon() inside a module named spam, how would you call it after importing spam?\n",
    "\n",
    "- spam.bacon()"
   ]
  }
 ],
 "metadata": {
  "kernelspec": {
   "display_name": "Python 3",
   "language": "python",
   "name": "python3"
  },
  "language_info": {
   "codemirror_mode": {
    "name": "ipython",
    "version": 3
   },
   "file_extension": ".py",
   "mimetype": "text/x-python",
   "name": "python",
   "nbconvert_exporter": "python",
   "pygments_lexer": "ipython3",
   "version": "3.8.8"
  }
 },
 "nbformat": 4,
 "nbformat_minor": 5
}
