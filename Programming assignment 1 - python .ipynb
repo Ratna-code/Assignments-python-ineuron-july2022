{
 "cells": [
  {
   "cell_type": "markdown",
   "id": "d4f4cd05",
   "metadata": {},
   "source": [
    "## Programming Assignment 1 - Python "
   ]
  },
  {
   "cell_type": "markdown",
   "id": "4be03a91",
   "metadata": {},
   "source": [
    "Question 1"
   ]
  },
  {
   "cell_type": "code",
   "execution_count": null,
   "id": "609cdcd9",
   "metadata": {},
   "outputs": [],
   "source": [
    "1.Write a Python program to print \"Hello Python\"?"
   ]
  },
  {
   "cell_type": "code",
   "execution_count": 2,
   "id": "3d2fd76f",
   "metadata": {},
   "outputs": [
    {
     "data": {
      "text/plain": [
       "'Hello Python'"
      ]
     },
     "execution_count": 2,
     "metadata": {},
     "output_type": "execute_result"
    }
   ],
   "source": [
    "\"Hello Python\""
   ]
  },
  {
   "cell_type": "markdown",
   "id": "ccd1c5a0",
   "metadata": {},
   "source": [
    "Question 2"
   ]
  },
  {
   "cell_type": "code",
   "execution_count": null,
   "id": "049d403b",
   "metadata": {},
   "outputs": [],
   "source": [
    "2.Write a Python program to do arithmetical operations addition and division.?"
   ]
  },
  {
   "cell_type": "code",
   "execution_count": 3,
   "id": "fa2eb4fa",
   "metadata": {},
   "outputs": [
    {
     "data": {
      "text/plain": [
       "27"
      ]
     },
     "execution_count": 3,
     "metadata": {},
     "output_type": "execute_result"
    }
   ],
   "source": [
    "#addition\n",
    "12+15"
   ]
  },
  {
   "cell_type": "code",
   "execution_count": 4,
   "id": "eff96bea",
   "metadata": {},
   "outputs": [
    {
     "data": {
      "text/plain": [
       "5.0"
      ]
     },
     "execution_count": 4,
     "metadata": {},
     "output_type": "execute_result"
    }
   ],
   "source": [
    "#division\n",
    "15/3"
   ]
  },
  {
   "cell_type": "markdown",
   "id": "c054cfba",
   "metadata": {},
   "source": [
    "Question 3"
   ]
  },
  {
   "cell_type": "code",
   "execution_count": null,
   "id": "0919f433",
   "metadata": {},
   "outputs": [],
   "source": [
    "3.Write a Python program to find the area of a triangle?"
   ]
  },
  {
   "cell_type": "code",
   "execution_count": 10,
   "id": "d43934c2",
   "metadata": {},
   "outputs": [
    {
     "name": "stdout",
     "output_type": "stream",
     "text": [
      "enter the width value1\n",
      "enter the height value1\n",
      "0.5\n"
     ]
    }
   ],
   "source": [
    "b = int(input(\"enter the width value\"))\n",
    "h = int(input(\"enter the height value\"))\n",
    "a = (0.5)*b*h\n",
    "print(a)"
   ]
  },
  {
   "cell_type": "markdown",
   "id": "e33968cc",
   "metadata": {},
   "source": [
    "Question 4"
   ]
  },
  {
   "cell_type": "code",
   "execution_count": null,
   "id": "ae5167dd",
   "metadata": {},
   "outputs": [],
   "source": [
    "4.Write a Python program to swap two variables?"
   ]
  },
  {
   "cell_type": "code",
   "execution_count": 12,
   "id": "53be0e54",
   "metadata": {},
   "outputs": [
    {
     "name": "stdout",
     "output_type": "stream",
     "text": [
      "Value of x: 5\n",
      "Value of y: 15\n"
     ]
    }
   ],
   "source": [
    "x = 15\n",
    "y = 5\n",
    " \n",
    "temp = x\n",
    "x = y\n",
    "y = temp\n",
    " \n",
    "print(\"Value of x:\", x)\n",
    "print(\"Value of y:\", y)\n"
   ]
  },
  {
   "cell_type": "markdown",
   "id": "518b6af8",
   "metadata": {},
   "source": [
    "Question 5"
   ]
  },
  {
   "cell_type": "code",
   "execution_count": null,
   "id": "7b141230",
   "metadata": {},
   "outputs": [],
   "source": [
    "5.Write a Python program to generate a random number?"
   ]
  },
  {
   "cell_type": "code",
   "execution_count": 17,
   "id": "b176d3fc",
   "metadata": {},
   "outputs": [
    {
     "name": "stdout",
     "output_type": "stream",
     "text": [
      "1505495382\n"
     ]
    }
   ],
   "source": [
    "import random\n",
    "\n",
    "print(random.randint(0,48484656546))"
   ]
  }
 ],
 "metadata": {
  "kernelspec": {
   "display_name": "Python 3",
   "language": "python",
   "name": "python3"
  },
  "language_info": {
   "codemirror_mode": {
    "name": "ipython",
    "version": 3
   },
   "file_extension": ".py",
   "mimetype": "text/x-python",
   "name": "python",
   "nbconvert_exporter": "python",
   "pygments_lexer": "ipython3",
   "version": "3.8.8"
  }
 },
 "nbformat": 4,
 "nbformat_minor": 5
}
