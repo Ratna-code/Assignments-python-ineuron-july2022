{
 "cells": [
  {
   "cell_type": "markdown",
   "id": "2137759a",
   "metadata": {},
   "source": [
    "## Assignment No.5 - Dictionary"
   ]
  },
  {
   "cell_type": "code",
   "execution_count": null,
   "id": "ceea5e46",
   "metadata": {},
   "outputs": [],
   "source": [
    "Question 1 . What does an empty dictionary's code look like?\n",
    "         - {}"
   ]
  },
  {
   "cell_type": "code",
   "execution_count": null,
   "id": "8515944f",
   "metadata": {},
   "outputs": [],
   "source": [
    "Question 2 . What is the value of a dictionary value with the key 'foo' and the value 42?\n",
    "\n",
    "         - {'foo' : 42}"
   ]
  },
  {
   "cell_type": "code",
   "execution_count": null,
   "id": "94495c38",
   "metadata": {},
   "outputs": [],
   "source": [
    "Question 3 . What is the most significant distinction between a dictionary and a list?\n",
    "\n",
    "         -List is a collection of index values and Dictionary is a hashed structure of key and value pairs.\n",
    "    \n",
    "          List is created by placing elements in [ ] and Dictionary is created by placing elements in { } as “key”:”value”, \n",
    "          each key value pair"
   ]
  },
  {
   "cell_type": "code",
   "execution_count": null,
   "id": "d1ab4c33",
   "metadata": {},
   "outputs": [],
   "source": [
    "Question 4  . What happens if you try to access spam['foo'] if spam is {'bar': 100} ?\n",
    "\n",
    "         - You get a KeyError error.\n"
   ]
  },
  {
   "cell_type": "code",
   "execution_count": null,
   "id": "a3a0efbf",
   "metadata": {},
   "outputs": [],
   "source": [
    "Question 5  . If a dictionary is stored in spam, what is the difference between the expressions 'cat' in spam \n",
    "              and 'cat' in spam.keys()?\n",
    "    \n",
    "         - 'cat' in spam checks whether there is a 'cat' key in the dictionary, while 'cat' in spam.values() \n",
    "            checks whether there is a value 'cat' for one of the keys in spam."
   ]
  },
  {
   "cell_type": "code",
   "execution_count": null,
   "id": "55af76c1",
   "metadata": {},
   "outputs": [],
   "source": [
    "Question 6  . What is a shortcut for the following code?\n",
    "if 'color' not in spam:\n",
    "        spam['color'] = 'black'\n",
    "\n",
    "         - spam.setdefault ('color','black')"
   ]
  },
  {
   "cell_type": "code",
   "execution_count": null,
   "id": "72bc2db9",
   "metadata": {},
   "outputs": [],
   "source": [
    "Question 7  . How do you \"pretty print\" dictionary values using which module and function?\n",
    "\n",
    "         - pprint()\n"
   ]
  }
 ],
 "metadata": {
  "kernelspec": {
   "display_name": "Python 3",
   "language": "python",
   "name": "python3"
  },
  "language_info": {
   "codemirror_mode": {
    "name": "ipython",
    "version": 3
   },
   "file_extension": ".py",
   "mimetype": "text/x-python",
   "name": "python",
   "nbconvert_exporter": "python",
   "pygments_lexer": "ipython3",
   "version": "3.8.8"
  }
 },
 "nbformat": 4,
 "nbformat_minor": 5
}
