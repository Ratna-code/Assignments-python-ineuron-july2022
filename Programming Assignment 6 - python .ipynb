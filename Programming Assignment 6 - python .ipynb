{
 "cells": [
  {
   "cell_type": "markdown",
   "id": "72a34887",
   "metadata": {},
   "source": [
    "## Programming Assignment 6 - python "
   ]
  },
  {
   "cell_type": "code",
   "execution_count": null,
   "id": "997c19c6",
   "metadata": {},
   "outputs": [],
   "source": [
    "1.Write a Python Program to Display Fibonacci Sequence Using Recursion?"
   ]
  },
  {
   "cell_type": "code",
   "execution_count": 1,
   "id": "019410c0",
   "metadata": {},
   "outputs": [
    {
     "name": "stdout",
     "output_type": "stream",
     "text": [
      "Enter number of terms:2\n",
      "Fibonacci sequence:\n",
      "0\n",
      "1\n"
     ]
    }
   ],
   "source": [
    "def fibonacci(n):\n",
    "    if(n <= 1):\n",
    "        return n\n",
    "    else:\n",
    "        return(fibonacci(n-1) + fibonacci(n-2))\n",
    "n = int(input(\"Enter number of terms:\"))\n",
    "print(\"Fibonacci sequence:\")\n",
    "for i in range(n):\n",
    "    print(fibonacci(i))"
   ]
  },
  {
   "cell_type": "code",
   "execution_count": null,
   "id": "b347a89d",
   "metadata": {},
   "outputs": [],
   "source": [
    "2.Write a Python Program to Find Factorial of Number Using Recursion?"
   ]
  },
  {
   "cell_type": "code",
   "execution_count": 2,
   "id": "819047be",
   "metadata": {},
   "outputs": [
    {
     "name": "stdout",
     "output_type": "stream",
     "text": [
      "number :  5\n",
      "Factorial :  120\n"
     ]
    }
   ],
   "source": [
    "def factorial(n): \n",
    "      \n",
    "    # Checking the number\n",
    "    # is 1 or 0 then\n",
    "    # return 1\n",
    "    # other wise return\n",
    "    # factorial\n",
    "    if (n==1 or n==0):\n",
    "          \n",
    "        return 1\n",
    "      \n",
    "    else:\n",
    "          \n",
    "        return (n * factorial(n - 1)) \n",
    "  \n",
    "num = 5; \n",
    "print(\"number : \",num)\n",
    "print(\"Factorial : \",factorial(num))"
   ]
  },
  {
   "cell_type": "code",
   "execution_count": null,
   "id": "9e5cd633",
   "metadata": {},
   "outputs": [],
   "source": [
    "3.Write a Python Program to calculate your Body Mass Index?"
   ]
  },
  {
   "cell_type": "code",
   "execution_count": 7,
   "id": "05465ec9",
   "metadata": {},
   "outputs": [
    {
     "name": "stdout",
     "output_type": "stream",
     "text": [
      "enter height1.65\n",
      "enter weight55\n",
      "The BMI is 20.202020202020204 so Healthy\n"
     ]
    }
   ],
   "source": [
    "def BMI(height, weight):\n",
    "    bmi = weight/(height**2)\n",
    "    return bmi\n",
    " \n",
    "# Driver code\n",
    "height = float(input(\"enter height\"))\n",
    "weight = int(input(\"enter weight\"))\n",
    " \n",
    "# calling the BMI function\n",
    "bmi = BMI(height, weight)\n",
    "print(\"The BMI is\", format(bmi), \"so \", end='')\n",
    " \n",
    "# Conditions to find out BMI category\n",
    "if (bmi < 18.5):\n",
    "    print(\"underweight\")\n",
    " \n",
    "elif ( bmi >= 18.5 and bmi < 24.9):\n",
    "    print(\"Healthy\")\n",
    " \n",
    "elif ( bmi >= 24.9 and bmi < 30):\n",
    "    print(\"overweight\")\n",
    " \n",
    "elif ( bmi >=30):\n",
    "    print(\"Suffering from Obesity\")"
   ]
  },
  {
   "cell_type": "code",
   "execution_count": null,
   "id": "14132323",
   "metadata": {},
   "outputs": [],
   "source": [
    "4.Write a Python Program to calculate the natural logarithm of any number?"
   ]
  },
  {
   "cell_type": "code",
   "execution_count": 8,
   "id": "b520a44e",
   "metadata": {},
   "outputs": [
    {
     "name": "stdout",
     "output_type": "stream",
     "text": [
      "Enter the number: 5\n",
      "The value is: 1.6094379124341003\n"
     ]
    }
   ],
   "source": [
    "import math\n",
    "\n",
    "number = int(input(\"Enter the number: \"))\n",
    "\n",
    "ans = math.log(number)\n",
    "\n",
    "print(\"The value is:\",ans)"
   ]
  },
  {
   "cell_type": "code",
   "execution_count": null,
   "id": "e84ef06b",
   "metadata": {},
   "outputs": [],
   "source": [
    "5.Write a Python Program for cube sum of first n natural numbers?"
   ]
  },
  {
   "cell_type": "code",
   "execution_count": null,
   "id": "a8eb1ea8",
   "metadata": {},
   "outputs": [],
   "source": [
    "not understandable so not solved"
   ]
  }
 ],
 "metadata": {
  "kernelspec": {
   "display_name": "Python 3",
   "language": "python",
   "name": "python3"
  },
  "language_info": {
   "codemirror_mode": {
    "name": "ipython",
    "version": 3
   },
   "file_extension": ".py",
   "mimetype": "text/x-python",
   "name": "python",
   "nbconvert_exporter": "python",
   "pygments_lexer": "ipython3",
   "version": "3.8.8"
  }
 },
 "nbformat": 4,
 "nbformat_minor": 5
}
