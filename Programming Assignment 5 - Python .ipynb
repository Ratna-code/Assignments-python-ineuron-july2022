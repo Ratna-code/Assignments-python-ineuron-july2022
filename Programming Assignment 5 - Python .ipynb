{
 "cells": [
  {
   "cell_type": "markdown",
   "id": "9fa10fae",
   "metadata": {},
   "source": [
    "## Programming Assignment 5 - Python "
   ]
  },
  {
   "cell_type": "code",
   "execution_count": null,
   "id": "72d2d2ef",
   "metadata": {},
   "outputs": [],
   "source": [
    "1.Write a Python Program to Find LCM?"
   ]
  },
  {
   "cell_type": "code",
   "execution_count": 2,
   "id": "4dc96345",
   "metadata": {},
   "outputs": [
    {
     "name": "stdout",
     "output_type": "stream",
     "text": [
      "Enter first number: 4\n",
      "Enter second number: 3\n",
      "The L.C.M. of 4 and 3 is 12\n"
     ]
    }
   ],
   "source": [
    "def calculate_lcm(x, y):  \n",
    "    # selecting the greater number  \n",
    "    if x > y:  \n",
    "        greater = x  \n",
    "    else:  \n",
    "        greater = y  \n",
    "    while(True):  \n",
    "        if((greater % x == 0) and (greater % y == 0)):  \n",
    "            lcm = greater  \n",
    "            break  \n",
    "        greater += 1  \n",
    "    return lcm    \n",
    "\n",
    "\n",
    "# taking input from users  \n",
    "num1 = int(input(\"Enter first number: \"))  \n",
    "num2 = int(input(\"Enter second number: \"))  \n",
    "# printing the result for the users  \n",
    "print(\"The L.C.M. of\", num1,\"and\", num2,\"is\", calculate_lcm(num1, num2))  "
   ]
  },
  {
   "cell_type": "code",
   "execution_count": null,
   "id": "0399776e",
   "metadata": {},
   "outputs": [],
   "source": [
    "2.Write a Python Program to Find HCF?"
   ]
  },
  {
   "cell_type": "code",
   "execution_count": 4,
   "id": "bd012f8a",
   "metadata": {},
   "outputs": [
    {
     "name": "stdout",
     "output_type": "stream",
     "text": [
      "Enter first number: 4\n",
      "Enter second number: 3\n",
      "The H.C.F. of 4 and 3 is 1\n"
     ]
    }
   ],
   "source": [
    "# defining a function to calculate HCF  \n",
    "def calculate_hcf(x, y):  \n",
    "    # selecting the smaller number  \n",
    "    if x > y:  \n",
    "        smaller = y  \n",
    "    else:  \n",
    "        smaller = x  \n",
    "    for i in range(1,smaller + 1):  \n",
    "        if((x % i == 0) and (y % i == 0)):  \n",
    "            hcf = i  \n",
    "    return hcf  \n",
    "  \n",
    "# taking input from users  \n",
    "num1 = int(input(\"Enter first number: \"))  \n",
    "num2 = int(input(\"Enter second number: \"))  \n",
    "# printing the result for the users  \n",
    "print(\"The H.C.F. of\", num1,\"and\", num2,\"is\", calculate_hcf(num1, num2))  "
   ]
  },
  {
   "cell_type": "code",
   "execution_count": null,
   "id": "ec3a32cd",
   "metadata": {},
   "outputs": [],
   "source": [
    "3.Python program to convert decimal into other number systems"
   ]
  },
  {
   "cell_type": "code",
   "execution_count": 6,
   "id": "94abd975",
   "metadata": {},
   "outputs": [
    {
     "name": "stdout",
     "output_type": "stream",
     "text": [
      " Enter the Number 4\n",
      "The decimal value of 4 is:\n",
      "0b100 in binary.\n",
      "0o4 in octal.\n",
      "0x4 in hexadecimal.\n"
     ]
    }
   ],
   "source": [
    "dec = int(input(\" Enter the Number \"))\n",
    "\n",
    "print(\"The decimal value of\", dec, \"is:\")\n",
    "print(bin(dec), \"in binary.\")\n",
    "print(oct(dec), \"in octal.\")\n",
    "print(hex(dec), \"in hexadecimal.\")"
   ]
  },
  {
   "cell_type": "code",
   "execution_count": null,
   "id": "d81f7d15",
   "metadata": {},
   "outputs": [],
   "source": [
    "4.Write a Python Program To Find ASCII value of a character?"
   ]
  },
  {
   "cell_type": "code",
   "execution_count": 7,
   "id": "2394d4d3",
   "metadata": {},
   "outputs": [
    {
     "name": "stdout",
     "output_type": "stream",
     "text": [
      "Please enter a character: 4\n",
      "The ASCII value of '4' is  52\n"
     ]
    }
   ],
   "source": [
    "K = input(\"Please enter a character: \")    \n",
    "    \n",
    "print (\"The ASCII value of '\" + K + \"' is \", ord(K))  "
   ]
  },
  {
   "cell_type": "code",
   "execution_count": null,
   "id": "a075dbd1",
   "metadata": {},
   "outputs": [],
   "source": [
    "5.Write a Python Program to Make a Simple Calculator with 4 basic mathematical operations"
   ]
  },
  {
   "cell_type": "code",
   "execution_count": 9,
   "id": "bc919f9c",
   "metadata": {},
   "outputs": [
    {
     "name": "stdout",
     "output_type": "stream",
     "text": [
      "Please select the operation.\n",
      "a. Add\n",
      "b. Subtract\n",
      "c. Multiply\n",
      "d. Divide\n",
      "Please enter choice (a/ b/ c/ d): a\n",
      "Please enter the first number: 4\n",
      "Please enter the second number: 4\n",
      "4  +  4  =  8\n"
     ]
    }
   ],
   "source": [
    "def add(P, Q):    \n",
    "   # This function is used for adding two numbers   \n",
    "   return P + Q   \n",
    "def subtract(P, Q):   \n",
    "   # This function is used for subtracting two numbers   \n",
    "   return P - Q   \n",
    "def multiply(P, Q):   \n",
    "   # This function is used for multiplying two numbers   \n",
    "   return P * Q   \n",
    "def divide(P, Q):   \n",
    "   # This function is used for dividing two numbers    \n",
    "   return P / Q    \n",
    "# Now we will take inputs from the user    \n",
    "print (\"Please select the operation.\")    \n",
    "print (\"a. Add\")    \n",
    "print (\"b. Subtract\")    \n",
    "print (\"c. Multiply\")    \n",
    "print (\"d. Divide\")    \n",
    "    \n",
    "choice = input(\"Please enter choice (a/ b/ c/ d): \")    \n",
    "    \n",
    "num_1 = int (input (\"Please enter the first number: \"))    \n",
    "num_2 = int (input (\"Please enter the second number: \"))    \n",
    "    \n",
    "if choice == 'a':    \n",
    "   print (num_1, \" + \", num_2, \" = \", add(num_1, num_2))    \n",
    "    \n",
    "elif choice == 'b':    \n",
    "   print (num_1, \" - \", num_2, \" = \", subtract(num_1, num_2))    \n",
    "    \n",
    "elif choice == 'c':    \n",
    "   print (num1, \" * \", num2, \" = \", multiply(num1, num2))    \n",
    "elif choice == 'd':    \n",
    "   print (num_1, \" / \", num_2, \" = \", divide(num_1, num_2))    \n",
    "else:    \n",
    "   print (\"This is an invalid input\")    "
   ]
  }
 ],
 "metadata": {
  "kernelspec": {
   "display_name": "Python 3",
   "language": "python",
   "name": "python3"
  },
  "language_info": {
   "codemirror_mode": {
    "name": "ipython",
    "version": 3
   },
   "file_extension": ".py",
   "mimetype": "text/x-python",
   "name": "python",
   "nbconvert_exporter": "python",
   "pygments_lexer": "ipython3",
   "version": "3.8.8"
  }
 },
 "nbformat": 4,
 "nbformat_minor": 5
}
