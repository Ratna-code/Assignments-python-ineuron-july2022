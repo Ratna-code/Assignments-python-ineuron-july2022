{
 "cells": [
  {
   "cell_type": "markdown",
   "id": "233d058e",
   "metadata": {},
   "source": [
    "## Assignment 3 python Function"
   ]
  },
  {
   "cell_type": "code",
   "execution_count": null,
   "id": "7229d6b5",
   "metadata": {},
   "outputs": [],
   "source": [
    "Question 1. Why are functions advantageous to have in your programs?\n",
    "\n",
    "        - As programs grow in complexity, having all the code live inside the main() function becomes increasingly complicated.\n",
    "          A function is almost like a mini-program that we can write separately from the main program, without having to think \n",
    "          about the rest of the program while we write it. This allows us to reduce a complicated program into smaller, more \n",
    "          manageable chunks, which reduces the overall complexity of our program."
   ]
  },
  {
   "cell_type": "code",
   "execution_count": null,
   "id": "f9ee4778",
   "metadata": {},
   "outputs": [],
   "source": [
    "Question 2. When does the code in a function run: when it's specified or when it's called?\n",
    "    \n",
    "        - first we create our function def ineuron() then we specified inner body where it contain any type of required code \n",
    "          structure then we called it by using return keyword the use of return to A return statement is used to end the execution \n",
    "          of the function call and “returns” the result (value of the expression following the return keyword) to the caller.\n",
    "          then we call the function ineuron() to \"call\" means to make a reference in your code to a function that is written\n",
    "          elsewhere."
   ]
  },
  {
   "cell_type": "code",
   "execution_count": null,
   "id": "5263a866",
   "metadata": {},
   "outputs": [],
   "source": [
    "Question 3. What statement creates a function?\n",
    "\n",
    "         - A statement that executes a function. It consists of the name of the function followed by a list of arguments enclosed \n",
    "           in parentheses. Using the output from one function call as the input to another. A statement that creates a \n",
    "           new function, specifying its name, parameters, and the statements it executes."
   ]
  },
  {
   "cell_type": "code",
   "execution_count": null,
   "id": "32b9aa55",
   "metadata": {},
   "outputs": [],
   "source": [
    "Question 4. What is the difference between a function and a function call?\n",
    "\n",
    "        - A function is a block of code that does a particular operation and returns a result. \n",
    "          It usually accepts inputs as parameters and returns a result. \n",
    "          The parameters are not mandatory. A function call is the code used to pass control to a function"
   ]
  },
  {
   "cell_type": "code",
   "execution_count": null,
   "id": "87e89ee4",
   "metadata": {},
   "outputs": [],
   "source": [
    "Question 5. How many global scopes are there in a Python program? How many local scopes?\n",
    "\n",
    "           There's only one global Python scope per program execution. \n",
    "           When you use an unqualified name inside a function, Python searches three scopes—the local (L)"
   ]
  },
  {
   "cell_type": "code",
   "execution_count": null,
   "id": "0507bad5",
   "metadata": {},
   "outputs": [],
   "source": [
    "Question 6. What happens to variables in a local scope when the function call returns?\n",
    "\n",
    "        -  A local variable retains its value until the next time the function is called A local variable becomes \n",
    "           undefined after the function call completes\n",
    "           The local variable can be used outside the function any time after the function call completes."
   ]
  },
  {
   "cell_type": "code",
   "execution_count": null,
   "id": "1aa561d7",
   "metadata": {},
   "outputs": [],
   "source": [
    "Question 7. What is the concept of a return value? Is it possible to have a return value in an expression?\n",
    "\n",
    "        - A return statement is used to end the execution of the function call and “returns” the result to the caller.\n",
    "          The statements after the return statements are not executed. \n",
    "          If the return statement is without any expression, then the special value None is returned."
   ]
  },
  {
   "cell_type": "code",
   "execution_count": null,
   "id": "74864eef",
   "metadata": {},
   "outputs": [],
   "source": [
    "Question 8. If a function does not have a return statement, what is the return value of a call to that function?\n",
    "\n",
    "         -  If no return statement appears in a function definition, control automatically returns to the calling function \n",
    "            after the last statement of the called function is executed. \n",
    "            In this case, the return value of the called function is undefined."
   ]
  },
  {
   "cell_type": "code",
   "execution_count": null,
   "id": "16062879",
   "metadata": {},
   "outputs": [],
   "source": [
    "Question 9. How do you make a function variable refer to the global variable?\n",
    "\n",
    "         -  If we want to refer to a global variable in a function, \n",
    "            we can use the global keyword to declare which variables are global"
   ]
  },
  {
   "cell_type": "code",
   "execution_count": null,
   "id": "6fdda460",
   "metadata": {},
   "outputs": [],
   "source": [
    "Question 10. What is the data type of None?\n",
    "\n",
    "         -  The None keyword is used to define a null value, or no value at all. None is not the same as 0, False, or \n",
    "            an empty string. None is a data type of its own (NoneType) and only None can be None."
   ]
  },
  {
   "cell_type": "code",
   "execution_count": null,
   "id": "69c9f211",
   "metadata": {},
   "outputs": [],
   "source": [
    "Question 11. What does the sentence import areallyourpetsnamederic do?\n",
    "\n",
    "         -  That import statement imports a module named areallyourpetsnamederic.\n"
   ]
  },
  {
   "cell_type": "code",
   "execution_count": null,
   "id": "3ca89f69",
   "metadata": {},
   "outputs": [],
   "source": [
    "Question 12.If you had a bacon() feature in a spam module, what would you call it after importing spam?\n",
    "\n",
    "         -  his function can be called with spam. bacon()."
   ]
  },
  {
   "cell_type": "code",
   "execution_count": null,
   "id": "088c7278",
   "metadata": {},
   "outputs": [],
   "source": [
    "Question 13. What can you do to save a programme from crashing if it encounters an error?\n",
    "\n",
    "         -  When it encounters an error, the control is passed to the except block, skipping the code in between.\n",
    "            As seen in the above code, we have moved our code inside a try and except statement. \n",
    "            Try running the program and it should throw an error message instead of crashing the program"
   ]
  },
  {
   "cell_type": "code",
   "execution_count": null,
   "id": "3569afe7",
   "metadata": {},
   "outputs": [],
   "source": [
    "Question 14. What is the purpose of the try clause? What is the purpose of the except clause?\n",
    "         -  The try block lets you test a block of code for errors. \n",
    "            The except block lets you handle the error. The else block lets you execute code when there is no error.\n",
    "            The finally block lets you execute code, regardless of the result of the try- and except blocks.\n"
   ]
  }
 ],
 "metadata": {
  "kernelspec": {
   "display_name": "Python 3",
   "language": "python",
   "name": "python3"
  },
  "language_info": {
   "codemirror_mode": {
    "name": "ipython",
    "version": 3
   },
   "file_extension": ".py",
   "mimetype": "text/x-python",
   "name": "python",
   "nbconvert_exporter": "python",
   "pygments_lexer": "ipython3",
   "version": "3.8.8"
  }
 },
 "nbformat": 4,
 "nbformat_minor": 5
}
