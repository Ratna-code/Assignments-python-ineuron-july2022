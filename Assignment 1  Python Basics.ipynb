{
 "cells": [
  {
   "cell_type": "markdown",
   "id": "403d332b",
   "metadata": {},
   "source": [
    "## Assignment 1 - Python Basics"
   ]
  },
  {
   "cell_type": "code",
   "execution_count": null,
   "id": "a81762cc",
   "metadata": {},
   "outputs": [],
   "source": [
    "Question 1 . In the below elements which of them are values or an expression?\n",
    "eg:- values can be integer or string and expressions will be mathematical operators.\n",
    "    \n",
    "      *        \n",
    "'hello'       \n",
    "-87.8\n",
    "- \n",
    "/ \n",
    "+\t\n",
    "6 \n",
    "\n",
    "\n",
    "\n",
    "#Answer of above question as follows:\n",
    "      *         mathmatical operator for multiplication \n",
    "'hello'         this is value - string \n",
    "-87.8           this is value - float \n",
    "-               mathmatical operator for subtraction\n",
    "/               mathmatical operator for division \n",
    "+\t            mathmatical operator for addition\n",
    "6               this is value - integer"
   ]
  },
  {
   "cell_type": "code",
   "execution_count": null,
   "id": "ee13c53e",
   "metadata": {},
   "outputs": [],
   "source": [
    "Question 2 . What is the difference between string and variable?\n",
    "\n",
    "- 1)a string is text string i.e \"ineuron\" and variable is a identifier that stores a data \n",
    "   i.e like float value 85.5, integer value 7 and even string text \"assignment\"\n",
    "  2) varibale stores a information and string is type of information that variable can store "
   ]
  },
  {
   "cell_type": "code",
   "execution_count": null,
   "id": "50933deb",
   "metadata": {},
   "outputs": [],
   "source": [
    " Question 3 . Describe three different data types?\n",
    "    \n",
    "    1) text data type - any kind of text is a string i.e \"ineuron\" , \"i am solving first assignment\"\n",
    "    \n",
    "    2) numeric data type - numeric data type having numeric data like float, integer and complex data \n",
    "    i.e integer = 7 , float = 12.7, complex = 2j\n",
    "    \n",
    "    3)boolen data type - some times in programming we get answer in true and false \n",
    "    so python return in true and false i.e print(5>2)"
   ]
  },
  {
   "cell_type": "code",
   "execution_count": null,
   "id": "96af8765",
   "metadata": {},
   "outputs": [],
   "source": [
    " Question 4 . What is an expression made up of? What do all expressions do?\n",
    "    \n",
    "    -1) An expression is a construct made up of variables, operators, and methods\n",
    "    which are constructed according to the syntax of the language, \n",
    "    that evaluates to a single value.\n",
    "    2) Expressions do representations of values like any string is also an expressions since\n",
    "    it represents the value of the string as well.\n",
    "    "
   ]
  },
  {
   "cell_type": "code",
   "execution_count": null,
   "id": "409adf9d",
   "metadata": {},
   "outputs": [],
   "source": [
    " Question 5 . This assignment statements, like spam = 10. What is the difference between an expression and a statement?\n",
    "\n",
    "    -1)  Statements represent an action or command e.g assignment statements\n",
    "    Expression is a combination of variables, operations and values that yields a result value\n",
    "    2)This assignment statements, like spam = 10 is a statement is action and it evaluates values"
   ]
  },
  {
   "cell_type": "code",
   "execution_count": null,
   "id": "e1132a34",
   "metadata": {},
   "outputs": [],
   "source": [
    " Question 6 . After running the following code, what does the variable bacon contain?\n",
    "              bacon = 22\n",
    "              bacon + 1\n",
    "            \n",
    "        - bacon is variable and 22 is integer value stored inside it and next statement will add  plus 1 so it will add. \n",
    "\n"
   ]
  },
  {
   "cell_type": "code",
   "execution_count": 1,
   "id": "d01713a2",
   "metadata": {},
   "outputs": [
    {
     "data": {
      "text/plain": [
       "23"
      ]
     },
     "execution_count": 1,
     "metadata": {},
     "output_type": "execute_result"
    }
   ],
   "source": [
    "#expression of problem \n",
    "bacon = 22\n",
    "bacon + 1\n",
    "            "
   ]
  },
  {
   "cell_type": "code",
   "execution_count": 2,
   "id": "d0399cf5",
   "metadata": {},
   "outputs": [
    {
     "data": {
      "text/plain": [
       "'spamspamspam'"
      ]
     },
     "execution_count": 2,
     "metadata": {},
     "output_type": "execute_result"
    }
   ],
   "source": [
    " # Question 7 . What should the values of the following two terms be?\n",
    "    \n",
    "'spam' + 'spamspam'\n",
    "'spam' * 3\n"
   ]
  },
  {
   "cell_type": "code",
   "execution_count": null,
   "id": "423d6e11",
   "metadata": {},
   "outputs": [],
   "source": [
    "Question 8 . Why is eggs a valid variable name while 100 is invalid?\n",
    "\n",
    " -  according to rules, A variable name cannot start with a number "
   ]
  },
  {
   "cell_type": "code",
   "execution_count": null,
   "id": "ded000a7",
   "metadata": {},
   "outputs": [],
   "source": [
    "Question 9 .  What three functions can be used to get the integer, floating-point number, or string version of a value?\n",
    "\n",
    "      -     1) The int() , float() , and str( ) functions will evaluate to the \n",
    "            integer, floating-point number, and string versions of the value passed to them."
   ]
  },
  {
   "cell_type": "code",
   "execution_count": null,
   "id": "840c3c97",
   "metadata": {},
   "outputs": [],
   "source": [
    "Question 10 .  Why does this expression cause an error? How can you fix it?\n",
    "                'I have eaten ' + 99 + ' burritos.'\n",
    "\n"
   ]
  },
  {
   "cell_type": "code",
   "execution_count": 11,
   "id": "3a5e0796",
   "metadata": {},
   "outputs": [
    {
     "ename": "TypeError",
     "evalue": "can only concatenate str (not \"int\") to str",
     "output_type": "error",
     "traceback": [
      "\u001b[1;31m---------------------------------------------------------------------------\u001b[0m",
      "\u001b[1;31mTypeError\u001b[0m                                 Traceback (most recent call last)",
      "\u001b[1;32m<ipython-input-11-2c118e6f5978>\u001b[0m in \u001b[0;36m<module>\u001b[1;34m\u001b[0m\n\u001b[1;32m----> 1\u001b[1;33m \u001b[1;34m'I have eaten '\u001b[0m \u001b[1;33m+\u001b[0m \u001b[1;36m99\u001b[0m \u001b[1;33m+\u001b[0m \u001b[1;34m' burritos.'\u001b[0m\u001b[1;33m\u001b[0m\u001b[1;33m\u001b[0m\u001b[0m\n\u001b[0m\u001b[0;32m      2\u001b[0m \u001b[1;33m\u001b[0m\u001b[0m\n",
      "\u001b[1;31mTypeError\u001b[0m: can only concatenate str (not \"int\") to str"
     ]
    }
   ],
   "source": [
    "#problem statement\n",
    "'I have eaten ' + 99 + ' burritos.'\n"
   ]
  },
  {
   "cell_type": "code",
   "execution_count": null,
   "id": "8c69b2e0",
   "metadata": {},
   "outputs": [],
   "source": [
    "- error says we cant concatenate int and str then we must convert data type of int into str"
   ]
  },
  {
   "cell_type": "code",
   "execution_count": 12,
   "id": "08e0a713",
   "metadata": {},
   "outputs": [
    {
     "data": {
      "text/plain": [
       "'I have eaten 99 burritos.'"
      ]
     },
     "execution_count": 12,
     "metadata": {},
     "output_type": "execute_result"
    }
   ],
   "source": [
    "# solution \n",
    "'I have eaten ' + str(99) + ' burritos.'\n"
   ]
  }
 ],
 "metadata": {
  "kernelspec": {
   "display_name": "Python 3",
   "language": "python",
   "name": "python3"
  },
  "language_info": {
   "codemirror_mode": {
    "name": "ipython",
    "version": 3
   },
   "file_extension": ".py",
   "mimetype": "text/x-python",
   "name": "python",
   "nbconvert_exporter": "python",
   "pygments_lexer": "ipython3",
   "version": "3.8.8"
  }
 },
 "nbformat": 4,
 "nbformat_minor": 5
}
