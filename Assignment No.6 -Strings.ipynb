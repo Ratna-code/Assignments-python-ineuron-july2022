{
 "cells": [
  {
   "cell_type": "markdown",
   "id": "237bd684",
   "metadata": {},
   "source": [
    "## Assignment 6  - Strings"
   ]
  },
  {
   "cell_type": "code",
   "execution_count": null,
   "id": "5c01ab07",
   "metadata": {},
   "outputs": [],
   "source": [
    "Question 1. What are escape characters, and how do you use them?\n",
    "\n",
    "          - to insert characters that are illegal in a string, use an escape character.\n",
    "            An escape character is a backslash \\ followed by the character we want to insert.\n",
    "            example \\n  --- New Line"
   ]
  },
  {
   "cell_type": "code",
   "execution_count": null,
   "id": "9f8304d9",
   "metadata": {},
   "outputs": [],
   "source": [
    "Question 2. What do the escape characters n and t stand for?\n",
    "\n",
    "          - \\n New Line\n",
    "            \\t Tab"
   ]
  },
  {
   "cell_type": "code",
   "execution_count": null,
   "id": "8d837c70",
   "metadata": {},
   "outputs": [],
   "source": [
    "Question 3. What is the way to include backslash characters in a string?\n",
    "\n",
    "          - The \\\\ escape character will represent a backslash character."
   ]
  },
  {
   "cell_type": "code",
   "execution_count": null,
   "id": "fbb1570c",
   "metadata": {},
   "outputs": [],
   "source": [
    "Question 4. The string \"Howl's Moving Castle\" is a correct value. \n",
    "            Why isn't the single quote character in the word Howl's not escaped a problem?\n",
    "    \n",
    "          - The single quote in Howl's is fine because we’ve used double quotes to mark the beginning and end of the string.\n"
   ]
  },
  {
   "cell_type": "code",
   "execution_count": null,
   "id": "0ae6cb22",
   "metadata": {},
   "outputs": [],
   "source": [
    "Question 5. How do you write a string of newlines if you don't want to use the n character?\n",
    "\n",
    "          - Multiline strings allow you to use newlines in strings without the \\n escape character\n"
   ]
  },
  {
   "cell_type": "code",
   "execution_count": null,
   "id": "86d62ade",
   "metadata": {},
   "outputs": [],
   "source": [
    "Question 6. What are the values of the given expressions?\n",
    "            'Hello, world!'[1]\n",
    "            'Hello, world!'[0:5]\n",
    "            'Hello, world!'[:5]\n",
    "            'Hello, world!'[3:]\n"
   ]
  },
  {
   "cell_type": "code",
   "execution_count": 2,
   "id": "5739e51f",
   "metadata": {},
   "outputs": [
    {
     "data": {
      "text/plain": [
       "'e'"
      ]
     },
     "execution_count": 2,
     "metadata": {},
     "output_type": "execute_result"
    }
   ],
   "source": [
    "'Hello, world!'[1]\n"
   ]
  },
  {
   "cell_type": "code",
   "execution_count": 3,
   "id": "5ac4cd61",
   "metadata": {},
   "outputs": [
    {
     "data": {
      "text/plain": [
       "'Hello'"
      ]
     },
     "execution_count": 3,
     "metadata": {},
     "output_type": "execute_result"
    }
   ],
   "source": [
    "'Hello, world!'[0:5]"
   ]
  },
  {
   "cell_type": "code",
   "execution_count": 4,
   "id": "cc349cd7",
   "metadata": {},
   "outputs": [
    {
     "data": {
      "text/plain": [
       "'Hello'"
      ]
     },
     "execution_count": 4,
     "metadata": {},
     "output_type": "execute_result"
    }
   ],
   "source": [
    "'Hello, world!'[:5]"
   ]
  },
  {
   "cell_type": "code",
   "execution_count": 5,
   "id": "c14428a6",
   "metadata": {},
   "outputs": [
    {
     "data": {
      "text/plain": [
       "'lo, world!'"
      ]
     },
     "execution_count": 5,
     "metadata": {},
     "output_type": "execute_result"
    }
   ],
   "source": [
    " 'Hello, world!'[3:]"
   ]
  },
  {
   "cell_type": "code",
   "execution_count": null,
   "id": "e4ab5eca",
   "metadata": {},
   "outputs": [],
   "source": [
    "Question 7. What are the values of the following expressions?\n",
    "\n",
    "            'Hello'.upper()\n",
    "\n",
    "            'Hello'.upper().isupper()\n",
    "\n",
    "            'Hello'.upper().lower()\n",
    "                      -"
   ]
  },
  {
   "cell_type": "code",
   "execution_count": 6,
   "id": "9d013954",
   "metadata": {},
   "outputs": [
    {
     "data": {
      "text/plain": [
       "'HELLO'"
      ]
     },
     "execution_count": 6,
     "metadata": {},
     "output_type": "execute_result"
    }
   ],
   "source": [
    "'Hello'.upper()"
   ]
  },
  {
   "cell_type": "code",
   "execution_count": 7,
   "id": "aaa9b3e1",
   "metadata": {},
   "outputs": [
    {
     "data": {
      "text/plain": [
       "True"
      ]
     },
     "execution_count": 7,
     "metadata": {},
     "output_type": "execute_result"
    }
   ],
   "source": [
    "'Hello'.upper().isupper()"
   ]
  },
  {
   "cell_type": "code",
   "execution_count": 8,
   "id": "4bbd683b",
   "metadata": {},
   "outputs": [
    {
     "data": {
      "text/plain": [
       "'hello'"
      ]
     },
     "execution_count": 8,
     "metadata": {},
     "output_type": "execute_result"
    }
   ],
   "source": [
    "'Hello'.upper().lower()"
   ]
  },
  {
   "cell_type": "code",
   "execution_count": null,
   "id": "37ec8a31",
   "metadata": {},
   "outputs": [],
   "source": [
    "Question 8.   What are the values of the following expressions?\n",
    "\n",
    "            'Remember, remember, the fifth of July.'.split()\n",
    "\n",
    "            '-'.join('There can only one.'.split())\n",
    "\n",
    "        "
   ]
  },
  {
   "cell_type": "code",
   "execution_count": 11,
   "id": "51ee5398",
   "metadata": {},
   "outputs": [
    {
     "data": {
      "text/plain": [
       "['Remember,', 'remember,', 'the', 'fifth', 'of', 'July.']"
      ]
     },
     "execution_count": 11,
     "metadata": {},
     "output_type": "execute_result"
    }
   ],
   "source": [
    "'Remember, remember, the fifth of July.'.split()\n"
   ]
  },
  {
   "cell_type": "code",
   "execution_count": 10,
   "id": "0f92ff2e",
   "metadata": {},
   "outputs": [
    {
     "data": {
      "text/plain": [
       "'There-can-only-one.'"
      ]
     },
     "execution_count": 10,
     "metadata": {},
     "output_type": "execute_result"
    }
   ],
   "source": [
    "'-'.join('There can only one.'.split())\n"
   ]
  },
  {
   "cell_type": "code",
   "execution_count": null,
   "id": "0bfc598f",
   "metadata": {},
   "outputs": [],
   "source": [
    "Question 9. What are the methods for right-justifying, left-justifying, and centering a string?\n",
    "\n",
    "          - he rjust(), ljust(), and center() string methods, respectively"
   ]
  },
  {
   "cell_type": "code",
   "execution_count": null,
   "id": "b4f72c24",
   "metadata": {},
   "outputs": [],
   "source": [
    "Question 10. What is the best way to remove whitespace characters from the start or end?\n",
    "\n",
    "\n",
    "          - The lstrip() and rstrip() methods remove whitespace from the left and right ends of a string, respectively\n",
    "\n"
   ]
  }
 ],
 "metadata": {
  "kernelspec": {
   "display_name": "Python 3",
   "language": "python",
   "name": "python3"
  },
  "language_info": {
   "codemirror_mode": {
    "name": "ipython",
    "version": 3
   },
   "file_extension": ".py",
   "mimetype": "text/x-python",
   "name": "python",
   "nbconvert_exporter": "python",
   "pygments_lexer": "ipython3",
   "version": "3.8.8"
  }
 },
 "nbformat": 4,
 "nbformat_minor": 5
}
